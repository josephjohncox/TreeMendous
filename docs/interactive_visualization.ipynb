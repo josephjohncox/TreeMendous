{
  "cells": [
    {
      "cell_type": "markdown",
      "metadata": {},
      "source": [
        "# 🌳 Tree-Mendous: Interactive Interval Tree Visualizations\n",
        "\n",
        "This notebook provides interactive visualizations and analysis of different interval tree implementations.\n",
        "\n",
        "## Setup and Imports\n"
      ]
    },
    {
      "cell_type": "code",
      "execution_count": null,
      "metadata": {},
      "outputs": [],
      "source": [
        "import sys\n",
        "import time\n",
        "import math\n",
        "import random\n",
        "import numpy as np\n",
        "import matplotlib.pyplot as plt\n",
        "import matplotlib.patches as patches\n",
        "from pathlib import Path\n",
        "\n",
        "# Add project root to path\n",
        "project_root = Path.cwd().parent if Path.cwd().name == 'docs' else Path.cwd()\n",
        "sys.path.insert(0, str(project_root))\n",
        "\n",
        "from treemendous.basic.boundary import IntervalManager\n",
        "from treemendous.basic.summary import SummaryIntervalTree\n",
        "from treemendous.basic.treap import IntervalTreap\n",
        "from treemendous.basic.boundary_summary import BoundarySummaryManager\n",
        "\n",
        "print(\"✅ All implementations loaded successfully!\")\n"
      ]
    },
    {
      "cell_type": "markdown",
      "metadata": {},
      "source": [
        "## 📊 Interval Layout Visualization\n",
        "\n",
        "Let's visualize how intervals are laid out in memory and how different operations affect the structure.\n"
      ]
    },
    {
      "cell_type": "code",
      "execution_count": null,
      "metadata": {},
      "outputs": [],
      "source": [
        "def plot_intervals(intervals, title=\"Interval Layout\", total_span=1000, figsize=(12, 3)):\n",
        "    \"\"\"Create a visual plot of interval allocation\"\"\"\n",
        "    fig, ax = plt.subplots(1, 1, figsize=figsize)\n",
        "    \n",
        "    # Plot each interval as a rectangle\n",
        "    for i, interval in enumerate(intervals):\n",
        "        width = interval.end - interval.start\n",
        "        rect = patches.Rectangle((interval.start, 0), width, 1, \n",
        "                               linewidth=1, edgecolor='black', \n",
        "                               facecolor=plt.cm.Set3(i % 12), alpha=0.7)\n",
        "        ax.add_patch(rect)\n",
        "        \n",
        "        # Add interval label\n",
        "        ax.text(interval.start + width/2, 0.5, f'{width}', \n",
        "                ha='center', va='center', fontsize=8, fontweight='bold')\n",
        "    \n",
        "    ax.set_xlim(0, total_span)\n",
        "    ax.set_ylim(0, 1)\n",
        "    ax.set_xlabel('Position')\n",
        "    ax.set_title(title)\n",
        "    ax.grid(True, alpha=0.3)\n",
        "    \n",
        "    # Remove y-axis as it's not meaningful\n",
        "    ax.set_yticks([])\n",
        "    \n",
        "    plt.tight_layout()\n",
        "    plt.show()\n",
        "\n",
        "# Demo: Progressive interval allocation\n",
        "manager = IntervalManager()\n",
        "manager.release_interval(0, 1000)\n",
        "\n",
        "print(\"Initial state: Full availability\")\n",
        "plot_intervals(manager.get_intervals(), \"Initial: [0, 1000) Available\")\n",
        "\n",
        "# Reserve some intervals\n",
        "manager.reserve_interval(200, 350)\n",
        "manager.reserve_interval(500, 700)\n",
        "manager.reserve_interval(850, 950)\n",
        "\n",
        "print(\"\\nAfter reservations:\")\n",
        "plot_intervals(manager.get_intervals(), \"After Reservations: Fragmented\")\n",
        "\n",
        "# Show available space\n",
        "total_free = manager.get_total_available_length()\n",
        "print(f\"Total available space: {total_free} units\")\n",
        "print(f\"Fragmentation: {len(manager.get_intervals())} separate intervals\")\n"
      ]
    }
  ],
  "metadata": {
    "kernelspec": {
      "display_name": ".venv",
      "language": "python",
      "name": "python3"
    },
    "language_info": {
      "codemirror_mode": {
        "name": "ipython",
        "version": 3
      },
      "file_extension": ".py",
      "mimetype": "text/x-python",
      "name": "python",
      "nbconvert_exporter": "python",
      "pygments_lexer": "ipython3",
      "version": "3.12.7"
    }
  },
  "nbformat": 4,
  "nbformat_minor": 2
}
